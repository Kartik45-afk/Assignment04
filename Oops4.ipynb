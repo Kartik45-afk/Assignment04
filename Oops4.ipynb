{
  "nbformat": 4,
  "nbformat_minor": 0,
  "metadata": {
    "colab": {
      "provenance": []
    },
    "kernelspec": {
      "name": "python3",
      "display_name": "Python 3"
    },
    "language_info": {
      "name": "python"
    }
  },
  "cells": [
    {
      "cell_type": "markdown",
      "source": [
        "# Theoretical Questions\n"
      ],
      "metadata": {
        "id": "SybXq-Op6Sxo"
      }
    },
    {
      "cell_type": "markdown",
      "source": [
        "#### #1.What is Object-Oriented Programming (OOP)?\n",
        "##### #Ans.Object-Oriented Programming (OOP) is a programming paradigm that uses \"objects\" to structure and organize code.In OOP,an object is a self-contained unit that consists of both data and methods (functions) that operate on that data.These objects interact with each other to perform the tasks of the program.OOP is designed to model real-world systems more naturally by focusing on entities and their behaviors."
      ],
      "metadata": {
        "id": "i_K_qPB_6Yqd"
      }
    },
    {
      "cell_type": "markdown",
      "source": [
        "#### #2.What is a class in OOP?\n",
        "##### #Ans.A class in Object-Oriented Programming is a blueprint or template used to create objects.It defines the data (called attributes) and the actions (called methods) that the objects will have.A class does not hold actual data but provides the structure for creating individual objects.For example,a class named car can have attributes like color and speed and methods like drive and brake.Classes help organize code and promote reusability."
      ],
      "metadata": {
        "id": "VZ-rMoCM7rAp"
      }
    },
    {
      "cell_type": "markdown",
      "source": [
        "#### #3.What is an object in OOP?\n",
        "##### #Ans.An object in Object-Oriented Programming is an instance of a class.It is a real-world entity that contains both data and methods defined by its class.When a class is like a blueprint,the object is the actual item built from that blueprint.Each object can have different values for its attributes but share the same structure.Objects interact with each other to perform tasks in a program."
      ],
      "metadata": {
        "id": "GVr8xJT88hkF"
      }
    },
    {
      "cell_type": "markdown",
      "source": [
        "#### #4.What is the difference between abstraction and encapsulation?\n",
        "##### #Ans.Abstraction and encapsulation are two important concepts in Object-Oriented Programming but they serve different purposes.\n",
        "Abstraction means hiding the complex details and showing only the essential features of an object.It helps in focusing on what an object does rather than how it does it.Encapsulation means wrapping the data and methods into a single unit and restricting direct access to some parts of the object.It helps in protecting the data and maintaining security.In short,abstraction is about hiding unnecessary details while encapsulation is about protecting the data."
      ],
      "metadata": {
        "id": "MkBQRsXi9A4F"
      }
    },
    {
      "cell_type": "markdown",
      "source": [
        "#### #5.What are dunder methods in Python?\n",
        "##### #Ans.Dunder methods in Python are special methods whose names begin and end with double underscores.They are also called magic methods and allow you to define how objects should behave in different situations.These methods are automatically called by Python when certain actions happen like creating an object or converting it to a string.For example,one dunder method handles object creation and another handles how the object is shown as text.These methods help make objects work smoothly with Python's built-in features."
      ],
      "metadata": {
        "id": "z-WTy3v79uXV"
      }
    },
    {
      "cell_type": "markdown",
      "source": [
        "#### #6.Explain the concept of inheritance in OOP.\n",
        "##### #Ans.Inheritance in Object-Oriented Programming is the process by which one class can take the properties and methods of another class.The class that gives its features is called the parent or base class and the class that receives them is called the child or derived class.This helps in reusing existing code and creating new features without rewriting everything.Inheritance also supports the idea of creating a hierarchy between classes.It makes the code more organized,scalable and easier to maintain."
      ],
      "metadata": {
        "id": "sVSrQ6na-9bn"
      }
    },
    {
      "cell_type": "markdown",
      "source": [
        "#### #7.What is polymorphism in OOP?\n",
        "##### #Ans.Polymorphism in Object-Oriented Programming means the ability of a single function,method or operator to work in different ways depending on the object it is acting upon.It allows different classes to define the same method name but with different behaviors.This helps in writing flexible and reusable code.Polymorphism makes it possible to use a common interface for different types of objects.It is mainly achieved through method overriding and method overloading."
      ],
      "metadata": {
        "id": "3vCmhbBC_kjF"
      }
    },
    {
      "cell_type": "markdown",
      "source": [
        "#### #8.How is encapsulation achieved in Python?\n",
        "##### #Ans.Encapsulation in Python is achieved by keeping the data (variables) private and allowing access through public methods.This is done by using a single underscore ( _ ) or double underscore (__) before variable names to indicate that they should not be accessed directly.Instead,getter and setter methods are used to read and update the values.This protects the data from unwanted changes and keeps the internal structure hidden.Encapsulation helps in maintaining security and control over the data."
      ],
      "metadata": {
        "id": "edh_S67FAoan"
      }
    },
    {
      "cell_type": "markdown",
      "source": [
        "#### #9.What is a constructor in Python?\n",
        "##### #Ans.A constructor in Python is a special method used to create and initialize objects from a class.It is automatically called when a new object is created.In Python,the constructor method is named with double underscores.It allows you to set initial values for the object's attributes at the time of creation.Constructors help in preparing the object for use as soon as it is made.They make object creation simple and organized."
      ],
      "metadata": {
        "id": "wsQ53_dEB3Ex"
      }
    },
    {
      "cell_type": "markdown",
      "source": [
        "#### #10.What are class and static methods in Python?\n",
        "##### #Ans.Class and static methods in Python are special methods that belong to the class rather than to individual objects.\n",
        "A class method is used to work with the class itself.It has access to class-level data and is defined using a special decorator.It receives the class as its first argument and can be called using either the class name or an object.A static method does not access the class or object data.It is simply placed inside the class for logical grouping.It is also defined using a special decorator and behaves like a normal function that belongs to the class.Both are defined using decorators:@classmethod and @staticmethod."
      ],
      "metadata": {
        "id": "HdlNdUemDdy9"
      }
    },
    {
      "cell_type": "markdown",
      "source": [
        "#### #11.What is method overloading in Python?\n",
        "##### #Ans.Method overloading in Python refers to the ability to define multiple methods with the same name but with different numbers or types of arguments.However,Python does not support true method overloading like some other languages.In Python,if you define a method multiple times with the same name,the latest one will overwrite the previous ones.To achieve method overloading-like behavior,default arguments or variable-length arguments are used.This allows a single method to handle different types or numbers of inputs."
      ],
      "metadata": {
        "id": "se84QpUIFdUl"
      }
    },
    {
      "cell_type": "markdown",
      "source": [
        "#### #12.What is method overriding in OOP?\n",
        "##### #Ans.Method overriding in Object-Oriented Programming is a feature that allows a child class to provide its own version of a method that is already defined in its parent class.This is done by using the same method name in both classes.When the method is called from an object of the child class,the child's version is executed instead of the parent's.Method overriding is used to change or extend the behavior of inherited methods.It supports flexibility and allows customization in object behavior."
      ],
      "metadata": {
        "id": "RJLNjnplGadB"
      }
    },
    {
      "cell_type": "markdown",
      "source": [
        "#### #13.What is a property decorator in Python?\n",
        "##### #Ans.A property decorator in Python is used to turn a method into a read-only property.It allows you to access a method like an attribute without using parentheses.This is helpful when you want to control access to a private variable while still using simple syntax.The property decorator helps in achieving encapsulation by linking getter,setter and deleter methods to an attribute.It makes the code cleaner,more readable and maintains control over data access."
      ],
      "metadata": {
        "id": "Vv6pLiu6HMD6"
      }
    },
    {
      "cell_type": "markdown",
      "source": [
        "#### #14.Why is polymorphism important in OOP?\n",
        "##### #Ans.Polymorphism is important in Object-Oriented Programming because it allows the same function or method to work in different ways depending on the object it is used with.This makes the code more flexible and easier to extend.It supports the use of a common interface for multiple types of objects,which improves code reusability.Polymorphism also helps in reducing complexity by allowing one method to handle different types of data or behaviors.It plays a key role in achieving dynamic and efficient program design."
      ],
      "metadata": {
        "id": "FafQDXCqIZME"
      }
    },
    {
      "cell_type": "markdown",
      "source": [
        "#### #15.What is an abstract class in Python?\n",
        "##### #Ans.An abstract class in Python is a class that serves as a blueprint for other classes and cannot be used to create objects directly.It is used to define a common structure for related classes by including abstract methods.An abstract method is a method that is declared but does not have any implementation in the abstract class.To create an abstract class in Python,the abc module is used along with the @abstractmethod decorator.Any class that inherits from an abstract class must provide definitions for all the abstract methods,otherwise it will also be considered abstract.Abstract classes help in enforcing a standard structure across different subclasses and promote consistency in code design."
      ],
      "metadata": {
        "id": "jB4kP42hQ-xM"
      }
    },
    {
      "cell_type": "markdown",
      "source": [
        "#### #16.What are the advantages of OOP?\n",
        "##### #Ans.Object-Oriented Programming offers several advantages that improve the overall quality and maintainability of code.\n",
        "It provides better organization by combining data and functions into single units called objects,making the code more readable and manageable.Code reusability is achieved through inheritance,which allows developers to use existing code in new programs without rewriting it.OOP promotes modularity by dividing large programs into smaller,self-contained parts that are easier to test and debug.Encapsulation protects the internal state of objects by restricting direct access ensuring better control and security of data.Polymorphism allows one interface to handle different underlying forms,making the code more flexible and easier to extend in the future."
      ],
      "metadata": {
        "id": "fgPwMrc-Rxdl"
      }
    },
    {
      "cell_type": "markdown",
      "source": [
        "#### #17.What is the difference between a class variable and an instance variable?\n",
        "##### #Ans.The difference between a class variable and an instance variable lies in how they are shared and used within a class.\n",
        "A class variable is shared by all objects of the class.It is defined inside the class but outside any method.This means any change made to it affects all objects.An instance variable is unique to each object.It is defined inside the constructor or other methods using the object itself.Changes to instance variables only affect the specific object.\n",
        "Example:\n",
        "If you create a class for students and set a class variable like school name,all student objects will have the same school name. But if you assign names and marks as instance variables,each student can have different values for them.This helps in managing shared information with class variables and storing object-specific data with instance variables.\n"
      ],
      "metadata": {
        "id": "vGp2GP2yTPDl"
      }
    },
    {
      "cell_type": "markdown",
      "source": [
        "#### #18.What is multiple inheritance in Python?\n",
        "##### #Ans.Multiple inheritance in Python is a feature that allows a class to inherit from more than one parent class.This means the child class can access the properties and methods of all its parent classes.It helps in combining features from different classes into a single class,promoting code reuse and flexibility.However,multiple inheritance can also lead to confusion when parent classes have methods with the same name.To handle this, Python uses a rule called Method Resolution Order (MRO),which decides the order in which methods are inherited.For example, if class C inherits from both class A and class B, then class C can use features from both A and B.This is useful when different classes offer separate functionalities that need to be combined."
      ],
      "metadata": {
        "id": "_a9gj7jCUfdq"
      }
    },
    {
      "cell_type": "markdown",
      "source": [
        "#### #19.Explain the purpose of \"__str__' and '__repr__'' methods in Python.\n",
        "##### #Ans.In Python,the __ str __ and __ repr __ methods are used to define how an object is represented as a string but they serve different purposes:\n",
        "The __ str __ method is intended to provide a user-friendly,informal string representation of an object,typically used when printing or converting an object to a string (e.g., via print() or str()).\\\n",
        "The __ repr __ method is intended to provide a formal,unambiguous string representation of an object,typically used for debugging or development purposes.It should ideally return a string that when passed to the eval() function, would recreate the object.\\\n",
        "In summary, __ str __ is for human-readable output,while __ repr __ is for a more technical or detailed representation aimed at developers."
      ],
      "metadata": {
        "id": "0RaM0CCLWLl8"
      }
    },
    {
      "cell_type": "markdown",
      "source": [
        "#### #20.What is the significance of the 'super()' function in Python?\n",
        "##### #Ans.The super() function in Python is used to refer to the parent class without naming it directly.It allows access to the methods and properties of the parent class from a child class.This is especially useful when overriding methods in the child class but still wanting to use the parent class's version of that method.\n",
        "The main significance of super() is that it helps in maintaining cleaner and more maintainable code,especially in programs using inheritance.It also supports method resolution in cases of multiple inheritance by following the method resolution order (MRO).This ensures that the correct method from the parent class is called."
      ],
      "metadata": {
        "id": "s2suSY5XbGzG"
      }
    },
    {
      "cell_type": "markdown",
      "source": [
        "#### #21.What is the significance of the __del__ method in Python?\n",
        "##### #Ans.The __del__ method in Python is a special method called a destructor.It is automatically invoked when an object is about to be destroyed or deleted.The main purpose of this method is to perform clean-up actions such as releasing resources,closing files or disconnecting from a database.The significance of the __del__ method is that it helps in managing memory and other system resources properly by allowing custom actions when an object is no longer needed.However,its use should be limited and handled carefully,as the exact time of its execution is not always predictable due to Python's garbage collection system."
      ],
      "metadata": {
        "id": "WEulHoJmchK6"
      }
    },
    {
      "cell_type": "markdown",
      "source": [
        "#### #22.What is the difference between @staticmethod and @classmethod in Python?\n",
        "##### #Ans.The difference between @staticmethod and @classmethod in Python lies in how they access class-related data and how they are used within a class.\n",
        "A method marked with @staticmethod does not receive any reference to the object or class.It behaves like a regular function but is placed inside a class for logical grouping.It cannot access or modify class or instance variables and is used when the method's logic is related to the class but doesn't need class-specific data.A method marked with @classmethod receives the class itself as its first argument,usually named cls.It can access and modify class variables and it is commonly used when the behavior of the method should depend on the class,not on individual objects.\n",
        "\n",
        "In short, @staticmethod is used for independent utility functions inside a class while @classmethod is used when the method needs to work with the class itself."
      ],
      "metadata": {
        "id": "otCpNMZtdhqc"
      }
    },
    {
      "cell_type": "markdown",
      "source": [
        "#### #23.How does polymorphism work in Python with inheritance?\n",
        "##### #Ans.Polymorphism in Python with inheritance allows different child classes to provide their own version of a method that is defined in a common parent class.This means that the same method name can perform different actions depending on the object that is calling it.When a parent class has a method and multiple child classes inherit from it and override that method with their own specific implementation,Python automatically chooses the correct version of the method based on the object type.This allows functions or code blocks to use the same method name without needing to know the exact class of the object.\n",
        "This behavior supports flexibility,simplifies code and makes it easier to work with different objects through a common interface."
      ],
      "metadata": {
        "id": "wGwsRqdCfLdJ"
      }
    },
    {
      "cell_type": "markdown",
      "source": [
        "#### #24.What is method chaining in Python OOP?\n",
        "##### #Ans.Method chaining in Python OOP is a technique where multiple methods are called on the same object in a single line of code,one after another.This is possible when each method returns the object itself,usually by returning self at the end of the method.The main purpose of method chaining is to write clean, readable and compact code.It is commonly used when several operations need to be performed on the same object in a sequence.\n",
        "For example,in a class that modifies text,methods like convert to uppercase,remove spaces and add punctuation can be chained together to apply all changes in one line.Method chaining improves flow and avoids writing repetitive code."
      ],
      "metadata": {
        "id": "u1kgSktih366"
      }
    },
    {
      "cell_type": "markdown",
      "source": [
        "#### #25.What is the purpose of the __call__ method in Python?\n",
        "##### #Ans.The __call__ method in Python is a special method that allows an object to be called like a regular function.When a class defines the __call__ method,its instances can be used with parentheses () as if they were functions.The main purpose of the __call__ method is to make objects more flexible and behave like functions while still maintaining object-oriented features.It is useful in cases where the object needs to store state but also perform actions like a function when called.This method is often used in advanced programming situations such as decorators, function wrappers, and custom behavior in classes."
      ],
      "metadata": {
        "id": "mHcqXfrGiwxm"
      }
    },
    {
      "cell_type": "markdown",
      "source": [
        "# Practical Questions"
      ],
      "metadata": {
        "id": "h_gDHaAHk6xm"
      }
    },
    {
      "cell_type": "code",
      "source": [
        "#1.Create a parent class Animal with a method speak() that prints a generic message. Create a child class Dog that overrides the speak() method to print \"Bark!\".\n",
        "#Parent class\n",
        "class Animal:\n",
        "    def speak(self):\n",
        "        print(\"This is a generic animal sound.\")\n",
        "\n",
        "# Child class\n",
        "class Dog(Animal):\n",
        "    def speak(self):\n",
        "        print(\"Bark!\")\n",
        "\n",
        "animal = Animal()\n",
        "animal.speak()  # Output:This is a generic animal sound.\n",
        "\n",
        "dog = Dog()\n",
        "dog.speak()  # Output:Bark!"
      ],
      "metadata": {
        "id": "c_XT7cXMlO78",
        "colab": {
          "base_uri": "https://localhost:8080/"
        },
        "outputId": "3c5563ad-10d5-4da9-fc8f-3c40ae7374be"
      },
      "execution_count": 1,
      "outputs": [
        {
          "output_type": "stream",
          "name": "stdout",
          "text": [
            "This is a generic animal sound.\n",
            "Bark!\n"
          ]
        }
      ]
    },
    {
      "cell_type": "code",
      "source": [
        "#2.Write a program to create an abstract class Shape with a method area(). Derive classes Circle and Rectangle from it and implement the area() method in both.\n",
        "from abc import ABC, abstractmethod\n",
        "import math\n",
        "\n",
        "# Abstract class\n",
        "class Shape(ABC):\n",
        "    @abstractmethod\n",
        "    def area(self):\n",
        "        pass\n",
        "\n",
        "# Derived class for Circle\n",
        "class Circle(Shape):\n",
        "    def __init__(self, radius):\n",
        "        self.radius = radius\n",
        "\n",
        "    def area(self):\n",
        "        return math.pi * (self.radius ** 2)\n",
        "\n",
        "# Derived class for Rectangle\n",
        "class Rectangle(Shape):\n",
        "    def __init__(self, length, width):\n",
        "        self.length = length\n",
        "        self.width = width\n",
        "\n",
        "    def area(self):\n",
        "        return self.length * self.width\n",
        "\n",
        "circle = Circle(8)  # Circle with radius 8\n",
        "rectangle = Rectangle(5, 5)  # Rectangle with length 5 and width 5\n",
        "\n",
        "print(f\"Area of Circle: {circle.area():.2f}\")  # Output: Area of Circle:201.06\n",
        "print(f\"Area of Rectangle: {rectangle.area()}\")  # Output: Area of Rectangle:25"
      ],
      "metadata": {
        "colab": {
          "base_uri": "https://localhost:8080/"
        },
        "id": "9gIfmJ6Y0Rw2",
        "outputId": "f575b7cb-1e81-406d-8a7d-43872ff4c8fd"
      },
      "execution_count": 4,
      "outputs": [
        {
          "output_type": "stream",
          "name": "stdout",
          "text": [
            "Area of Circle: 201.06\n",
            "Area of Rectangle: 25\n"
          ]
        }
      ]
    },
    {
      "cell_type": "code",
      "source": [
        "#3. Implement a multi-level inheritance scenario where a class Vehicle has an attribute type. Derive a class Car and further derive a class ElectricCar that adds a battery attribute.\n",
        "# Base class\n",
        "class Vehicle:\n",
        "    def __init__(self, vehicle_type):\n",
        "        self.vehicle_type = vehicle_type\n",
        "\n",
        "    def display_type(self):\n",
        "        print(f\"Vehicle type: {self.vehicle_type}\")\n",
        "\n",
        "# Intermediate class\n",
        "class Car(Vehicle):\n",
        "    def __init__(self, vehicle_type, brand):\n",
        "        super().__init__(vehicle_type)\n",
        "        self.brand = brand\n",
        "\n",
        "    def display_car_details(self):\n",
        "        print(f\"Car brand: {self.brand}\")\n",
        "\n",
        "# Derived class\n",
        "class ElectricCar(Car):\n",
        "    def __init__(self, vehicle_type, brand, battery_capacity):\n",
        "        super().__init__(vehicle_type, brand)\n",
        "        self.battery_capacity = battery_capacity\n",
        "\n",
        "    def display_electric_car_details(self):\n",
        "        print(f\"Battery capacity: {self.battery_capacity} kWh\")\n",
        "\n",
        "vehicle = Vehicle(\"General\")\n",
        "vehicle.display_type()\n",
        "\n",
        "car = Car(\"Car\", \"Toyota\")\n",
        "car.display_type()\n",
        "car.display_car_details()\n",
        "\n",
        "electric_car = ElectricCar(\"Electric Car\", \"Tesla Model S\", 100)\n",
        "electric_car.display_type()  # Output: Vehicle type:Electric Car\n",
        "electric_car.display_car_details()  # Output: Car brand:Tesla Model S\n",
        "electric_car.display_electric_car_details()  # Output: Battery capacity:100 kWh"
      ],
      "metadata": {
        "colab": {
          "base_uri": "https://localhost:8080/"
        },
        "id": "XFtPEDGj1zje",
        "outputId": "7edc1984-b552-4429-9649-929c9cc0c178"
      },
      "execution_count": 6,
      "outputs": [
        {
          "output_type": "stream",
          "name": "stdout",
          "text": [
            "Vehicle type: General\n",
            "Vehicle type: Car\n",
            "Car brand: Toyota\n",
            "Vehicle type: Electric Car\n",
            "Car brand: Tesla Model S\n",
            "Battery capacity: 100 kWh\n"
          ]
        }
      ]
    },
    {
      "cell_type": "code",
      "source": [
        "#4.Demonstrate polymorphism by creating a base class Bird with a method fly(). Create two derived classes Sparrow and Penguin that override the fly() method.\n",
        "# Base class\n",
        "class Bird:\n",
        "    def fly(self):\n",
        "        print(\"Some birds can fly.\")\n",
        "\n",
        "# Derived class\n",
        "class Sparrow(Bird):\n",
        "    def fly(self):\n",
        "        print(\"Sparrow flies high in the sky.\")\n",
        "\n",
        "# Derived class\n",
        "class Penguin(Bird):\n",
        "    def fly(self):\n",
        "        print(\"Penguins cannot fly, they swim.\")\n",
        "\n",
        "# Polymorphism in action\n",
        "def bird_fly_test(bird):\n",
        "    bird.fly()\n",
        "\n",
        "# Create objects\n",
        "sparrow = Sparrow()\n",
        "penguin = Penguin()\n",
        "\n",
        "# Use the same function with different types of birds\n",
        "bird_fly_test(sparrow)  # Output: Sparrow flies high in the sky.\n",
        "bird_fly_test(penguin)  # Output: Penguins cannot fly, they swim.\n"
      ],
      "metadata": {
        "colab": {
          "base_uri": "https://localhost:8080/"
        },
        "id": "leFA5HxJ36FY",
        "outputId": "73c57742-28ca-4fe4-c8d2-3e1dd131776c"
      },
      "execution_count": 7,
      "outputs": [
        {
          "output_type": "stream",
          "name": "stdout",
          "text": [
            "Sparrow flies high in the sky.\n",
            "Penguins cannot fly, they swim.\n"
          ]
        }
      ]
    },
    {
      "cell_type": "code",
      "source": [
        "#5.Write a program to demonstrate encapsulation by creating a class BankAccount with private attributes balance and methods to deposit, withdraw, and check balance.\n",
        "class BankAccount:\n",
        "    def __init__(self, initial_balance):\n",
        "        self.__balance = initial_balance\n",
        "\n",
        "    # Method to deposit money into the account\n",
        "    def deposit(self, amount):\n",
        "        if amount > 0:\n",
        "            self.__balance += amount\n",
        "            print(f\"Deposited {amount}. New balance is {self.__balance}\")\n",
        "        else:\n",
        "            print(\"Deposit amount must be positive.\")\n",
        "\n",
        "    # Method to withdraw money from the account\n",
        "    def withdraw(self, amount):\n",
        "        if 0 < amount <= self.__balance:\n",
        "            self.__balance -= amount\n",
        "            print(f\"Withdrew {amount}. New balance is {self.__balance}\")\n",
        "        else:\n",
        "            print(\"Insufficient balance or invalid withdrawal amount.\")\n",
        "\n",
        "    # Method to check the balance\n",
        "    def check_balance(self):\n",
        "        print(f\"Current balance: {self.__balance}\")\n",
        "\n",
        "account = BankAccount(3000)\n",
        "\n",
        "# Perform operations\n",
        "account.deposit(1000)       # Deposit 1000\n",
        "account.withdraw(500)      # Withdraw 500\n",
        "account.check_balance()    # Check current balance\n"
      ],
      "metadata": {
        "colab": {
          "base_uri": "https://localhost:8080/"
        },
        "id": "3fJCa8LS42fS",
        "outputId": "8b0232b5-2881-4db2-da2e-ae7ce5ed5b37"
      },
      "execution_count": 8,
      "outputs": [
        {
          "output_type": "stream",
          "name": "stdout",
          "text": [
            "Deposited 1000. New balance is 4000\n",
            "Withdrew 500. New balance is 3500\n",
            "Current balance: 3500\n"
          ]
        }
      ]
    },
    {
      "cell_type": "code",
      "source": [
        "#6.Demonstrate runtime polymorphism using a method play() in a base class Instrument. Derive classes Guitar and Piano that implement their own version of play().\n",
        "# Base class\n",
        "class Instrument:\n",
        "    def play(self):\n",
        "        print(\"Playing an instrument.\")\n",
        "\n",
        "# Derived class for Guitar\n",
        "class Guitar(Instrument):\n",
        "    def play(self):\n",
        "        print(\"Playing the guitar.\")\n",
        "\n",
        "# Derived class for Piano\n",
        "class Piano(Instrument):\n",
        "    def play(self):\n",
        "        print(\"Playing the piano.\")\n",
        "\n",
        "# Function to demonstrate runtime polymorphism\n",
        "def play_instrument(instrument):\n",
        "    instrument.play()\n",
        "\n",
        "instrument = Instrument()\n",
        "guitar = Guitar()\n",
        "piano = Piano()\n",
        "\n",
        "play_instrument(instrument)  # Output: Playing an instrument.\n",
        "play_instrument(guitar)      # Output: Playing the guitar.\n",
        "play_instrument(piano)       # Output: Playing the piano."
      ],
      "metadata": {
        "colab": {
          "base_uri": "https://localhost:8080/"
        },
        "id": "2c1KhGVN5obz",
        "outputId": "779f933c-0619-4c5f-f18e-b8fcfb087d5b"
      },
      "execution_count": 10,
      "outputs": [
        {
          "output_type": "stream",
          "name": "stdout",
          "text": [
            "Playing an instrument.\n",
            "Playing the guitar.\n",
            "Playing the piano.\n"
          ]
        }
      ]
    },
    {
      "cell_type": "code",
      "source": [
        "#7.Create a class MathOperations with a class method add_numbers() to add two numbers and a static method subtract_numbers() to subtract two numbers.\n",
        "class MathOperations:\n",
        "    @classmethod\n",
        "    def add_numbers(cls, a, b):\n",
        "        # Class method to add two numbers\n",
        "        return a + b\n",
        "\n",
        "    @staticmethod\n",
        "    def subtract_numbers(a, b):\n",
        "        # Static method to subtract two numbers\n",
        "        return a - b\n",
        "\n",
        "# Using the class method and static method\n",
        "sum_result = MathOperations.add_numbers(14, 5)\n",
        "difference_result = MathOperations.subtract_numbers(14, 5)\n",
        "\n",
        "print(f\"Sum: {sum_result}\")          # Output: Sum: 19\n",
        "print(f\"Difference: {difference_result}\")  # Output: Difference: 9"
      ],
      "metadata": {
        "colab": {
          "base_uri": "https://localhost:8080/"
        },
        "id": "lcSnim5J6LXk",
        "outputId": "16cc050a-74d0-4b80-9cc4-046475760e23"
      },
      "execution_count": 11,
      "outputs": [
        {
          "output_type": "stream",
          "name": "stdout",
          "text": [
            "Sum: 19\n",
            "Difference: 9\n"
          ]
        }
      ]
    },
    {
      "cell_type": "code",
      "source": [
        "#8.Implement a class Person with a class method to count the total number of persons created.\n",
        "class Person:\n",
        "    # Class-level attribute to track the count of persons\n",
        "    person_count = 0\n",
        "\n",
        "    def __init__(self, name):\n",
        "        self.name = name\n",
        "        # Increment the count whenever a new Person object is created\n",
        "        Person.person_count += 1\n",
        "\n",
        "    @classmethod\n",
        "    def get_person_count(cls):\n",
        "        return cls.person_count\n",
        "\n",
        "# Testing the Person class\n",
        "person1 = Person(\"Kartik\")\n",
        "person2 = Person(\"Amey\")\n",
        "person3 = Person(\"Rahul\")\n",
        "\n",
        "print(f\"Total persons created: {Person.get_person_count()}\")  # Output: Total persons created: 3"
      ],
      "metadata": {
        "colab": {
          "base_uri": "https://localhost:8080/"
        },
        "id": "WvmxyIri6_V9",
        "outputId": "924cfaa9-c5db-4f9d-9763-b932964224f7"
      },
      "execution_count": 12,
      "outputs": [
        {
          "output_type": "stream",
          "name": "stdout",
          "text": [
            "Total persons created: 3\n"
          ]
        }
      ]
    },
    {
      "cell_type": "code",
      "source": [
        "#9.Write a class Fraction with attributes numerator and denominator. Override the str method to display the fraction as \"numerator/denominator\".\n",
        "class Fraction:\n",
        "    def __init__(self, numerator, denominator):\n",
        "        self.numerator = numerator\n",
        "        self.denominator = denominator\n",
        "\n",
        "    def __str__(self):\n",
        "        return f\"{self.numerator}/{self.denominator}\"\n",
        "\n",
        "# Testing the Fraction class\n",
        "fraction1 = Fraction(2, 10)\n",
        "fraction2 = Fraction(4, 8)\n",
        "\n",
        "print(f\"Fraction 1: {fraction1}\")  # Output: Fraction 1: 2/10\n",
        "print(f\"Fraction 2: {fraction2}\")  # Output: Fraction 2: 4/8"
      ],
      "metadata": {
        "colab": {
          "base_uri": "https://localhost:8080/"
        },
        "id": "v2cOh6KX7zic",
        "outputId": "23da1d9f-0873-473d-dffc-84b5f59f6f02"
      },
      "execution_count": 13,
      "outputs": [
        {
          "output_type": "stream",
          "name": "stdout",
          "text": [
            "Fraction 1: 2/10\n",
            "Fraction 2: 4/8\n"
          ]
        }
      ]
    },
    {
      "cell_type": "code",
      "source": [
        "#10.Demonstrate operator overloading by creating a class Vector and overriding the add method to add two vectors.\n",
        "class Vector:\n",
        "    def __init__(self, x, y):\n",
        "        self.x = x\n",
        "        self.y = y\n",
        "\n",
        "    # Overloading the + operator to add two vectors\n",
        "    def __add__(self, other):\n",
        "        if isinstance(other, Vector):\n",
        "            return Vector(self.x + other.x, self.y + other.y)\n",
        "        return NotImplemented\n",
        "\n",
        "    def __str__(self):\n",
        "        return f\"Vector({self.x}, {self.y})\"\n",
        "\n",
        "# Creating two vector instances\n",
        "vector1 = Vector(6, 9)\n",
        "vector2 = Vector(2, 5)\n",
        "\n",
        "# Adding two vectors using the overloaded + operator\n",
        "result_vector = vector1 + vector2\n",
        "\n",
        "# Displaying the result\n",
        "print(f\"Vector 1: {vector1}\")\n",
        "print(f\"Vector 2: {vector2}\")\n",
        "print(f\"Result of vector addition: {result_vector}\")"
      ],
      "metadata": {
        "colab": {
          "base_uri": "https://localhost:8080/"
        },
        "id": "IKZUVDkzBA0L",
        "outputId": "ecc53291-b0bf-47ad-f7e3-d8efe51b4536"
      },
      "execution_count": 14,
      "outputs": [
        {
          "output_type": "stream",
          "name": "stdout",
          "text": [
            "Vector 1: Vector(6, 9)\n",
            "Vector 2: Vector(2, 5)\n",
            "Result of vector addition: Vector(8, 14)\n"
          ]
        }
      ]
    },
    {
      "cell_type": "code",
      "source": [
        "#11.Create a class Person with attributes name and age. Add a method greet() that prints \"Hello, my name is {name} and I am {age} years old.\"\n",
        "class Person:\n",
        "    def __init__(self, name, age):\n",
        "        self.name = name\n",
        "        self.age = age\n",
        "\n",
        "    def greet(self):\n",
        "        print(f\"Hello, my name is {self.name} and I am {self.age} years old.\")\n",
        "\n",
        "# Testing the Person class\n",
        "person1 = Person(\"Aniket\", 20)\n",
        "person2 = Person(\"Vipul\", 19)\n",
        "\n",
        "person1.greet()  # Output: Hello, my name is Aniket and I am 20 years old.\n",
        "person2.greet()  # Output: Hello, my name is Vipul and I am 19 years old."
      ],
      "metadata": {
        "colab": {
          "base_uri": "https://localhost:8080/"
        },
        "id": "mpTbUhy2Bxb1",
        "outputId": "17bee77f-129d-4846-992c-fc636202e082"
      },
      "execution_count": 15,
      "outputs": [
        {
          "output_type": "stream",
          "name": "stdout",
          "text": [
            "Hello, my name is Aniket and I am 20 years old.\n",
            "Hello, my name is Vipul and I am 19 years old.\n"
          ]
        }
      ]
    },
    {
      "cell_type": "code",
      "source": [
        "#12.Implement a class Student with attributes name and grades. Create a method average_grade() to compute the average of the grades.\n",
        "class Student:\n",
        "    def __init__(self, name, grades):\n",
        "        self.name = name\n",
        "        self.grades = grades  # grades is a list of numbers\n",
        "\n",
        "    def average_grade(self):\n",
        "        if len(self.grades) == 0:\n",
        "            return 0  # Return 0 if no grades are provided\n",
        "        return sum(self.grades) / len(self.grades)\n",
        "\n",
        "# Testing the Student class\n",
        "student1 = Student(\"Suyash\", [78, 85, 80, 91])\n",
        "student2 = Student(\"Yash\", [72, 89, 79, 83])\n",
        "\n",
        "print(f\"{student1.name}'s average grade: {student1.average_grade():.2f}\")  # Output: Aryan's average grade: 83.50\n",
        "print(f\"{student2.name}'s average grade: {student2.average_grade():.2f}\")  # Output: Yash's average grade: 80.75"
      ],
      "metadata": {
        "colab": {
          "base_uri": "https://localhost:8080/"
        },
        "id": "vVA3aDJlCbs4",
        "outputId": "77f6e73c-e15c-489b-8aa4-05b84eec87c5"
      },
      "execution_count": 16,
      "outputs": [
        {
          "output_type": "stream",
          "name": "stdout",
          "text": [
            "Suyash's average grade: 83.50\n",
            "Yash's average grade: 80.75\n"
          ]
        }
      ]
    },
    {
      "cell_type": "code",
      "source": [
        "#13.Create a class Rectangle with methods set_dimensions() to set the dimensions and area() to calculate the area.\n",
        "class Rectangle:\n",
        "    def __init__(self):\n",
        "        self.length = 0\n",
        "        self.width = 0\n",
        "\n",
        "    # Method to set the dimensions of the rectangle\n",
        "    def set_dimensions(self, length, width):\n",
        "        self.length = length\n",
        "        self.width = width\n",
        "\n",
        "    # Method to calculate the area of the rectangle\n",
        "    def area(self):\n",
        "        return self.length * self.width\n",
        "\n",
        "# Creating an instance of Rectangle\n",
        "rectangle = Rectangle()\n",
        "\n",
        "# Setting the dimensions of the rectangle\n",
        "rectangle.set_dimensions(6, 5)\n",
        "\n",
        "# Calculating and printing the area\n",
        "print(f\"The area of the rectangle is: {rectangle.area()}\")  # Output: 30"
      ],
      "metadata": {
        "colab": {
          "base_uri": "https://localhost:8080/"
        },
        "id": "N9sic5WGDfnH",
        "outputId": "dd8dad58-3419-4017-e01a-7615ca54143e"
      },
      "execution_count": 17,
      "outputs": [
        {
          "output_type": "stream",
          "name": "stdout",
          "text": [
            "The area of the rectangle is: 30\n"
          ]
        }
      ]
    },
    {
      "cell_type": "code",
      "source": [
        "#14.Create a class Employee with a method calculate_salary() that computes the salary based on hours worked and hourly rate. Create a derived class Manager that adds a bonus to the salary.\n",
        "# Base class Employee\n",
        "class Employee:\n",
        "    def __init__(self, name, hours_worked, hourly_rate):\n",
        "        self.name = name\n",
        "        self.hours_worked = hours_worked\n",
        "        self.hourly_rate = hourly_rate\n",
        "\n",
        "    # Method to calculate salary\n",
        "    def calculate_salary(self):\n",
        "        return self.hours_worked * self.hourly_rate\n",
        "\n",
        "# Derived class Manager that adds a bonus\n",
        "class Manager(Employee):\n",
        "    def __init__(self, name, hours_worked, hourly_rate, bonus):\n",
        "        super().__init__(name, hours_worked, hourly_rate)  # Get details from Employee\n",
        "        self.bonus = bonus  # Bonus for the manager\n",
        "\n",
        "    # Override the calculate_salary method to include the bonus\n",
        "    def calculate_salary(self):\n",
        "        base_salary = super().calculate_salary()  # Salary from Employee class\n",
        "        return base_salary + self.bonus  # Add bonus to the salary\n",
        "\n",
        "# Create an Employee object\n",
        "employee = Employee(\"Sumeet\", 30, 30)\n",
        "print(f\"Employee Salary: ${employee.calculate_salary()}\")  # Output: $900\n",
        "\n",
        "# Create a Manager object\n",
        "manager = Manager(\"Aayush\", 30, 35, 500)\n",
        "print(f\"Manager Salary: ${manager.calculate_salary()}\")  # Output: $1550"
      ],
      "metadata": {
        "colab": {
          "base_uri": "https://localhost:8080/"
        },
        "id": "_kRpApy8EK-N",
        "outputId": "72dc49eb-4e7f-44e9-cba5-7b1d2019df95"
      },
      "execution_count": 20,
      "outputs": [
        {
          "output_type": "stream",
          "name": "stdout",
          "text": [
            "Employee Salary: $900\n",
            "Manager Salary: $1550\n"
          ]
        }
      ]
    },
    {
      "cell_type": "code",
      "source": [
        "#15.Create a class Product with attributes name, price, and quantity. Implement a method total_price() that calculates the total price of the product.\n",
        "class Product:\n",
        "    def __init__(self, name, price, quantity):\n",
        "        self.name = name        # Name of the product\n",
        "        self.price = price      # Price of a single product\n",
        "        self.quantity = quantity  # Quantity of the product\n",
        "\n",
        "    # Method to calculate the total price\n",
        "    def total_price(self):\n",
        "        return self.price * self.quantity\n",
        "\n",
        "# Create a Product object\n",
        "product = Product(\"Asus TUF-F15\", 2000, 2)\n",
        "\n",
        "# Calculate and print the total price\n",
        "print(f\"Total price of {product.name}: ${product.total_price()}\")  # Output: $4000"
      ],
      "metadata": {
        "colab": {
          "base_uri": "https://localhost:8080/"
        },
        "id": "PZfomPv7FwK2",
        "outputId": "2021741e-e3dd-4005-a688-c7c42b2ebef1"
      },
      "execution_count": 21,
      "outputs": [
        {
          "output_type": "stream",
          "name": "stdout",
          "text": [
            "Total price of Asus TUF-F15: $4000\n"
          ]
        }
      ]
    },
    {
      "cell_type": "code",
      "source": [
        "#16.Create a class Animal with an abstract method sound(). Create two derived classes Cow and Sheep that implement the sound() method.\n",
        "from abc import ABC, abstractmethod\n",
        "\n",
        "# Abstract class Animal\n",
        "class Animal(ABC):\n",
        "    @abstractmethod\n",
        "    def sound(self):\n",
        "        pass\n",
        "\n",
        "# Derived class Cow\n",
        "class Cow(Animal):\n",
        "    def sound(self):\n",
        "        return \"Mooo\"\n",
        "\n",
        "# Derived class Sheep\n",
        "class Sheep(Animal):\n",
        "    def sound(self):\n",
        "        return \"Baa\"\n",
        "\n",
        "# Create instances of Cow and Sheep\n",
        "cow = Cow()\n",
        "sheep = Sheep()\n",
        "\n",
        "# Call the sound() method for both animals\n",
        "print(f\"Cow sound: {cow.sound()}\")  # Output: Mooo\n",
        "print(f\"Sheep sound: {sheep.sound()}\")  # Output: Baa"
      ],
      "metadata": {
        "colab": {
          "base_uri": "https://localhost:8080/"
        },
        "id": "nhvtnasEGXWH",
        "outputId": "41286b77-55a0-415a-9350-472ec9f3f9a4"
      },
      "execution_count": 22,
      "outputs": [
        {
          "output_type": "stream",
          "name": "stdout",
          "text": [
            "Cow sound: Mooo\n",
            "Sheep sound: Baa\n"
          ]
        }
      ]
    },
    {
      "cell_type": "code",
      "source": [
        "#17.Create a class Book with attributes title, author, and year_published. Add a method get_book_info() that returns a formatted string with the book's details.\n",
        "class Book:\n",
        "    def __init__(self, title, author, year_published):\n",
        "        self.title = title            # Title of the book\n",
        "        self.author = author          # Author of the book\n",
        "        self.year_published = year_published  # Year the book was published\n",
        "\n",
        "    # Method to get book details in a formatted string\n",
        "    def get_book_info(self):\n",
        "        return f\"Title: {self.title}, Author: {self.author}, Year Published: {self.year_published}\"\n",
        "\n",
        "# Create a Book object\n",
        "book = Book(\"Atomic Habits\", \"James Clear\", 2018)\n",
        "\n",
        "# Get and print the book details\n",
        "print(book.get_book_info())  # Output: Title:Atomic Habits, Author:James Clear, Year Published:2018"
      ],
      "metadata": {
        "colab": {
          "base_uri": "https://localhost:8080/"
        },
        "id": "X64_tJ88HdLh",
        "outputId": "8a42ed8a-cc1f-460f-bd0d-1db2af3d0e62"
      },
      "execution_count": 24,
      "outputs": [
        {
          "output_type": "stream",
          "name": "stdout",
          "text": [
            "Title: Atomic Habits, Author: James Clear, Year Published: 2018\n"
          ]
        }
      ]
    },
    {
      "cell_type": "code",
      "source": [
        "#18.Create a class House with attributes address and price. Create a derived class Mansion that adds an attribute number_of_rooms.\n",
        "# Base class House\n",
        "class House:\n",
        "    def __init__(self, address, price):\n",
        "        self.address = address  # Address of the house\n",
        "        self.price = price      # Price of the house\n",
        "\n",
        "    def get_info(self):\n",
        "        return f\"Address: {self.address}, Price: ₹{self.price}\"\n",
        "\n",
        "# Derived class Mansion that adds the number_of_rooms attribute\n",
        "class Mansion(House):\n",
        "    def __init__(self, address, price, number_of_rooms):\n",
        "        super().__init__(address, price)  # Initialize base class attributes\n",
        "        self.number_of_rooms = number_of_rooms  # Additional attribute for Mansion\n",
        "\n",
        "    def get_info(self):\n",
        "        # Include number_of_rooms in the information\n",
        "        base_info = super().get_info()  # Get info from the House class\n",
        "        return f\"{base_info}, Number of Rooms: {self.number_of_rooms}\"\n",
        "\n",
        "# Create an instance of House\n",
        "house = House(\"15 Shanti Nagar, Pune\", 28000000)\n",
        "\n",
        "# Create an instance of Mansion\n",
        "mansion = Mansion(\"5 Marine Drive, Mumbai\", 70000000, 15)\n",
        "\n",
        "# Print the details of House and Mansion\n",
        "print(house.get_info())\n",
        "print(mansion.get_info())\n"
      ],
      "metadata": {
        "colab": {
          "base_uri": "https://localhost:8080/"
        },
        "id": "3UmZUdftIn6z",
        "outputId": "647f3c1b-365a-4524-ebef-7c5a68575c1e"
      },
      "execution_count": 26,
      "outputs": [
        {
          "output_type": "stream",
          "name": "stdout",
          "text": [
            "Address: 15 Shanti Nagar, Pune, Price: ₹28000000\n",
            "Address: 5 Marine Drive, Mumbai, Price: ₹70000000, Number of Rooms: 15\n"
          ]
        }
      ]
    }
  ]
}